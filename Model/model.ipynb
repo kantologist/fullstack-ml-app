{
 "cells": [
  {
   "cell_type": "code",
   "execution_count": 21,
   "metadata": {},
   "outputs": [],
   "source": [
    "import pandas as pd\n",
    "import numpy as np\n",
    "from sklearn.model_selection import train_test_split\n",
    "from sklearn.linear_model import LinearRegression\n",
    "import mlflow\n",
    "from pprint import pprint\n",
    "import pickle"
   ]
  },
  {
   "cell_type": "code",
   "execution_count": 4,
   "metadata": {},
   "outputs": [
    {
     "name": "stderr",
     "output_type": "stream",
     "text": [
      "2021/11/14 20:55:12 WARNING mlflow.utils.autologging_utils: You are using an unsupported version of sklearn. If you encounter errors during autologging, try upgrading / downgrading sklearn to a supported version, or try upgrading MLflow.\n"
     ]
    }
   ],
   "source": [
    "def fetch_logged_data(run_id):\n",
    "    client = mlflow.tracking.MlflowClient()\n",
    "    data = client.get_run(run_id).data\n",
    "    tags = {k: v for k, v in data.tags.items() if not k.startswith(\"mlflow.\")}\n",
    "    artifacts = [f.path for f in client.list_artifacts(run_id, \"model\")]\n",
    "    return data.params, data.metrics, tags, artifacts\n",
    "\n",
    "# enable autologging\n",
    "mlflow.sklearn.autolog()"
   ]
  },
  {
   "cell_type": "code",
   "execution_count": 5,
   "metadata": {},
   "outputs": [],
   "source": [
    "house = pd.read_csv(\"../data/clean_houses.csv\")\n",
    "house.head()\n",
    "feature = house.drop(columns=[\"Price\"])\n",
    "price = house[\"Price\"]"
   ]
  },
  {
   "cell_type": "code",
   "execution_count": 6,
   "metadata": {},
   "outputs": [
    {
     "data": {
      "text/plain": [
       "0     28000000.0\n",
       "1     24000000.0\n",
       "2     35000000.0\n",
       "3    112000000.0\n",
       "4     12000000.0\n",
       "Name: Price, dtype: float64"
      ]
     },
     "execution_count": 6,
     "metadata": {},
     "output_type": "execute_result"
    }
   ],
   "source": [
    "feature.head()\n",
    "price.head()"
   ]
  },
  {
   "cell_type": "code",
   "execution_count": 7,
   "metadata": {},
   "outputs": [],
   "source": [
    "feature = feature.to_numpy()\n",
    "price = price.to_numpy()"
   ]
  },
  {
   "cell_type": "code",
   "execution_count": 8,
   "metadata": {},
   "outputs": [
    {
     "data": {
      "text/plain": [
       "2200000000.0"
      ]
     },
     "execution_count": 8,
     "metadata": {},
     "output_type": "execute_result"
    }
   ],
   "source": [
    "np.isnan(feature.any()) #and gets False\n",
    "# np.isfinite(feature.all()) #and gets True\n",
    "np.max(price)"
   ]
  },
  {
   "cell_type": "code",
   "execution_count": 9,
   "metadata": {},
   "outputs": [],
   "source": [
    "X_train, X_test, y_train, y_test = train_test_split(feature, price, test_size=0.33, random_state=42)"
   ]
  },
  {
   "cell_type": "code",
   "execution_count": 23,
   "metadata": {},
   "outputs": [],
   "source": [
    "model = LinearRegression()\n",
    "with mlflow.start_run() as run:\n",
    "    reg = model.fit(X_train, y_train)\n",
    "reg.score(X_train, y_train)\n",
    "\n",
    "pickle.dump(model, open(\"../data/model.sav\", \"wb\"))"
   ]
  },
  {
   "cell_type": "code",
   "execution_count": 25,
   "metadata": {},
   "outputs": [
    {
     "name": "stdout",
     "output_type": "stream",
     "text": [
      "[1 0 0 0 0 0 0 0 0 0 0 0 0 0 0 0 0 0 0 0 0 0 0 0 0 0 0 0 0 0 0 0 0 0 0 0 0\n",
      " 0 0 0 0 3 4 4]\n"
     ]
    },
    {
     "data": {
      "text/plain": [
       "array([66759987.34646924])"
      ]
     },
     "execution_count": 25,
     "metadata": {},
     "output_type": "execute_result"
    }
   ],
   "source": [
    "print(feature[0])\n",
    "reg.predict(feature[0].reshape(1,-1))"
   ]
  },
  {
   "cell_type": "code",
   "execution_count": 13,
   "metadata": {},
   "outputs": [
    {
     "data": {
      "text/plain": [
       "28000000.0"
      ]
     },
     "execution_count": 13,
     "metadata": {},
     "output_type": "execute_result"
    }
   ],
   "source": [
    "price[0]"
   ]
  },
  {
   "cell_type": "code",
   "execution_count": 14,
   "metadata": {},
   "outputs": [
    {
     "name": "stdout",
     "output_type": "stream",
     "text": [
      "{'copy_X': 'True',\n",
      " 'fit_intercept': 'True',\n",
      " 'n_jobs': 'None',\n",
      " 'normalize': 'deprecated',\n",
      " 'positive': 'False'}\n",
      "{'LinearRegression_score_X_train': 0.045566148857284605,\n",
      " 'training_mae': 93567082.69944245,\n",
      " 'training_mse': 6.228168003160279e+16,\n",
      " 'training_r2_score': 0.045566148857284605,\n",
      " 'training_rmse': 249562978.08690053,\n",
      " 'training_score': 0.045566148857284605}\n",
      "{'estimator_class': 'sklearn.linear_model._base.LinearRegression',\n",
      " 'estimator_name': 'LinearRegression'}\n",
      "['model/MLmodel',\n",
      " 'model/conda.yaml',\n",
      " 'model/model.pkl',\n",
      " 'model/requirements.txt']\n"
     ]
    }
   ],
   "source": [
    "# fetch logged data\n",
    "params, metrics, tags, artifacts = fetch_logged_data(run.info.run_id)\n",
    "\n",
    "pprint(params)\n",
    "pprint(metrics)\n",
    "pprint(tags)\n",
    "pprint(artifacts)"
   ]
  }
 ],
 "metadata": {
  "interpreter": {
   "hash": "8fea21aded3a92ff6cd30823602efa95e6b0c9a23eee257642d95ffa8f205980"
  },
  "kernelspec": {
   "display_name": "Python 3.7.6 64-bit ('env': venv)",
   "language": "python",
   "name": "python3"
  },
  "language_info": {
   "codemirror_mode": {
    "name": "ipython",
    "version": 3
   },
   "file_extension": ".py",
   "mimetype": "text/x-python",
   "name": "python",
   "nbconvert_exporter": "python",
   "pygments_lexer": "ipython3",
   "version": "3.7.6"
  },
  "orig_nbformat": 4
 },
 "nbformat": 4,
 "nbformat_minor": 2
}
