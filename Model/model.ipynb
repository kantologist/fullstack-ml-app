{
 "cells": [
  {
   "cell_type": "code",
   "execution_count": 3,
   "metadata": {},
   "outputs": [],
   "source": [
    "import pandas as pd\n",
    "import numpy as np\n",
    "from sklearn.model_selection import train_test_split\n",
    "from sklearn.linear_model import LinearRegression\n",
    "import mlflow\n",
    "from pprint import pprint"
   ]
  },
  {
   "cell_type": "code",
   "execution_count": 4,
   "metadata": {},
   "outputs": [
    {
     "name": "stderr",
     "output_type": "stream",
     "text": [
      "2021/11/14 20:55:12 WARNING mlflow.utils.autologging_utils: You are using an unsupported version of sklearn. If you encounter errors during autologging, try upgrading / downgrading sklearn to a supported version, or try upgrading MLflow.\n"
     ]
    }
   ],
   "source": [
    "def fetch_logged_data(run_id):\n",
    "    client = mlflow.tracking.MlflowClient()\n",
    "    data = client.get_run(run_id).data\n",
    "    tags = {k: v for k, v in data.tags.items() if not k.startswith(\"mlflow.\")}\n",
    "    artifacts = [f.path for f in client.list_artifacts(run_id, \"model\")]\n",
    "    return data.params, data.metrics, tags, artifacts\n",
    "\n",
    "# enable autologging\n",
    "mlflow.sklearn.autolog()"
   ]
  },
  {
   "cell_type": "code",
   "execution_count": 5,
   "metadata": {},
   "outputs": [],
   "source": [
    "house = pd.read_csv(\"../data/clean_houses.csv\")\n",
    "house.head()\n",
    "feature = house.drop(columns=[\"Price\"])\n",
    "price = house[\"Price\"]"
   ]
  },
  {
   "cell_type": "code",
   "execution_count": 6,
   "metadata": {},
   "outputs": [
    {
     "data": {
      "text/plain": [
       "0     28000000.0\n",
       "1     24000000.0\n",
       "2     35000000.0\n",
       "3    112000000.0\n",
       "4     12000000.0\n",
       "Name: Price, dtype: float64"
      ]
     },
     "execution_count": 6,
     "metadata": {},
     "output_type": "execute_result"
    }
   ],
   "source": [
    "feature.head()\n",
    "price.head()"
   ]
  },
  {
   "cell_type": "code",
   "execution_count": 7,
   "metadata": {},
   "outputs": [],
   "source": [
    "feature = feature.to_numpy()\n",
    "price = price.to_numpy()"
   ]
  },
  {
   "cell_type": "code",
   "execution_count": 8,
   "metadata": {},
   "outputs": [
    {
     "data": {
      "text/plain": [
       "2200000000.0"
      ]
     },
     "execution_count": 8,
     "metadata": {},
     "output_type": "execute_result"
    }
   ],
   "source": [
    "np.isnan(feature.any()) #and gets False\n",
    "# np.isfinite(feature.all()) #and gets True\n",
    "np.max(price)"
   ]
  },
  {
   "cell_type": "code",
   "execution_count": 9,
   "metadata": {},
   "outputs": [],
   "source": [
    "X_train, X_test, y_train, y_test = train_test_split(feature, price, test_size=0.33, random_state=42)"
   ]
  },
  {
   "cell_type": "code",
   "execution_count": 11,
   "metadata": {},
   "outputs": [
    {
     "name": "stderr",
     "output_type": "stream",
     "text": [
      "2021/11/14 20:55:55 ERROR mlflow.utils.environment: Encountered an unexpected error while inferring pip requirements (model URI: /var/folders/v2/3dfj0v553nv38qd17tx06vkr0000gn/T/tmpcigwpooi/model/model.pkl, flavor: sklearn)\n",
      "Traceback (most recent call last):\n",
      "  File \"/Users/femi/Documents/AI6/fullstack-ml-app/env/lib/python3.7/site-packages/pkg_resources/__init__.py\", line 3016, in _dep_map\n",
      "    return self.__dep_map\n",
      "  File \"/Users/femi/Documents/AI6/fullstack-ml-app/env/lib/python3.7/site-packages/pkg_resources/__init__.py\", line 2813, in __getattr__\n",
      "    raise AttributeError(attr)\n",
      "AttributeError: _DistInfoDistribution__dep_map\n",
      "\n",
      "During handling of the above exception, another exception occurred:\n",
      "\n",
      "Traceback (most recent call last):\n",
      "  File \"/Users/femi/Documents/AI6/fullstack-ml-app/env/lib/python3.7/site-packages/pkg_resources/__init__.py\", line 3007, in _parsed_pkg_info\n",
      "    return self._pkg_info\n",
      "  File \"/Users/femi/Documents/AI6/fullstack-ml-app/env/lib/python3.7/site-packages/pkg_resources/__init__.py\", line 2813, in __getattr__\n",
      "    raise AttributeError(attr)\n",
      "AttributeError: _pkg_info\n",
      "\n",
      "During handling of the above exception, another exception occurred:\n",
      "\n",
      "Traceback (most recent call last):\n",
      "  File \"/Users/femi/Documents/AI6/fullstack-ml-app/env/lib/python3.7/site-packages/mlflow/utils/environment.py\", line 196, in infer_pip_requirements\n",
      "    return _infer_requirements(model_uri, flavor)\n",
      "  File \"/Users/femi/Documents/AI6/fullstack-ml-app/env/lib/python3.7/site-packages/mlflow/utils/requirements_utils.py\", line 302, in _infer_requirements\n",
      "    packages = _prune_packages(packages)\n",
      "  File \"/Users/femi/Documents/AI6/fullstack-ml-app/env/lib/python3.7/site-packages/mlflow/utils/requirements_utils.py\", line 166, in _prune_packages\n",
      "    requires = set(_flatten(map(_get_requires_recursive, packages)))\n",
      "  File \"/Users/femi/Documents/AI6/fullstack-ml-app/env/lib/python3.7/site-packages/mlflow/utils/requirements_utils.py\", line 157, in _get_requires_recursive\n",
      "    yield from _get_requires_recursive(req.name)\n",
      "  File \"/Users/femi/Documents/AI6/fullstack-ml-app/env/lib/python3.7/site-packages/mlflow/utils/requirements_utils.py\", line 151, in _get_requires_recursive\n",
      "    reqs = package.requires()\n",
      "  File \"/Users/femi/Documents/AI6/fullstack-ml-app/env/lib/python3.7/site-packages/pkg_resources/__init__.py\", line 2734, in requires\n",
      "    dm = self._dep_map\n",
      "  File \"/Users/femi/Documents/AI6/fullstack-ml-app/env/lib/python3.7/site-packages/pkg_resources/__init__.py\", line 3018, in _dep_map\n",
      "    self.__dep_map = self._compute_dependencies()\n",
      "  File \"/Users/femi/Documents/AI6/fullstack-ml-app/env/lib/python3.7/site-packages/pkg_resources/__init__.py\", line 3027, in _compute_dependencies\n",
      "    for req in self._parsed_pkg_info.get_all('Requires-Dist') or []:\n",
      "  File \"/Users/femi/Documents/AI6/fullstack-ml-app/env/lib/python3.7/site-packages/pkg_resources/__init__.py\", line 3009, in _parsed_pkg_info\n",
      "    metadata = self.get_metadata(self.PKG_INFO)\n",
      "  File \"/Users/femi/Documents/AI6/fullstack-ml-app/env/lib/python3.7/site-packages/pkg_resources/__init__.py\", line 1407, in get_metadata\n",
      "    value = self._get(path)\n",
      "  File \"/Users/femi/Documents/AI6/fullstack-ml-app/env/lib/python3.7/site-packages/pkg_resources/__init__.py\", line 1611, in _get\n",
      "    with open(path, 'rb') as stream:\n",
      "FileNotFoundError: [Errno 2] No such file or directory: '/Users/femi/Documents/AI6/fullstack-ml-app/env/lib/python3.7/site-packages/importlib_metadata-4.8.1.dist-info/METADATA'\n"
     ]
    },
    {
     "data": {
      "text/plain": [
       "0.045566148857284605"
      ]
     },
     "execution_count": 11,
     "metadata": {},
     "output_type": "execute_result"
    }
   ],
   "source": [
    "model = LinearRegression()\n",
    "with mlflow.start_run() as run:\n",
    "    reg = model.fit(X_train, y_train)\n",
    "reg.score(X_train, y_train)"
   ]
  },
  {
   "cell_type": "code",
   "execution_count": 12,
   "metadata": {},
   "outputs": [
    {
     "data": {
      "text/plain": [
       "array([66759987.34646924])"
      ]
     },
     "execution_count": 12,
     "metadata": {},
     "output_type": "execute_result"
    }
   ],
   "source": [
    "reg.predict(feature[0].reshape(1,-1))"
   ]
  },
  {
   "cell_type": "code",
   "execution_count": 13,
   "metadata": {},
   "outputs": [
    {
     "data": {
      "text/plain": [
       "28000000.0"
      ]
     },
     "execution_count": 13,
     "metadata": {},
     "output_type": "execute_result"
    }
   ],
   "source": [
    "price[0]"
   ]
  },
  {
   "cell_type": "code",
   "execution_count": 14,
   "metadata": {},
   "outputs": [
    {
     "name": "stdout",
     "output_type": "stream",
     "text": [
      "{'copy_X': 'True',\n",
      " 'fit_intercept': 'True',\n",
      " 'n_jobs': 'None',\n",
      " 'normalize': 'deprecated',\n",
      " 'positive': 'False'}\n",
      "{'LinearRegression_score_X_train': 0.045566148857284605,\n",
      " 'training_mae': 93567082.69944245,\n",
      " 'training_mse': 6.228168003160279e+16,\n",
      " 'training_r2_score': 0.045566148857284605,\n",
      " 'training_rmse': 249562978.08690053,\n",
      " 'training_score': 0.045566148857284605}\n",
      "{'estimator_class': 'sklearn.linear_model._base.LinearRegression',\n",
      " 'estimator_name': 'LinearRegression'}\n",
      "['model/MLmodel',\n",
      " 'model/conda.yaml',\n",
      " 'model/model.pkl',\n",
      " 'model/requirements.txt']\n"
     ]
    }
   ],
   "source": [
    "# fetch logged data\n",
    "params, metrics, tags, artifacts = fetch_logged_data(run.info.run_id)\n",
    "\n",
    "pprint(params)\n",
    "pprint(metrics)\n",
    "pprint(tags)\n",
    "pprint(artifacts)"
   ]
  },
  {
   "cell_type": "code",
   "execution_count": 20,
   "metadata": {},
   "outputs": [
    {
     "name": "stdout",
     "output_type": "stream",
     "text": [
      "[2021-11-14 22:09:22,421] INFO - BentoService bundle 'HousePredictor:20211114220921_A60324' saved to: /Users/femi/bentoml/repository/HousePredictor/20211114220921_A60324\n"
     ]
    }
   ],
   "source": [
    "from bento_service import HousePredictor\n",
    "\n",
    "house_predictor_service = HousePredictor()\n",
    "\n",
    "house_predictor_service.pack('model', model)\n",
    "\n",
    "saved_path = house_predictor_service.save()"
   ]
  },
  {
   "cell_type": "markdown",
   "metadata": {},
   "source": [
    "# Command for starting yatai service\n",
    "Run `bentoml yatai-service-start` in command line"
   ]
  },
  {
   "cell_type": "markdown",
   "metadata": {},
   "source": [
    "> `BENTO_BUNDLE=$(bentoml get HousePrediction:latest --print-location -q)`\n",
    "> `python deploy.py $BENTO_BUNDLE my_deployment heroku_config.json`"
   ]
  },
  {
   "cell_type": "markdown",
   "metadata": {},
   "source": [
    "> `BENTO_BUNDLE=$(bentoml get HousePrediction:latest --print-location -q)`\n",
    "> `python update.py $BENTO_BUNDLE my_deployment heroku_config.json`"
   ]
  },
  {
   "cell_type": "markdown",
   "metadata": {},
   "source": []
  }
 ],
 "metadata": {
  "interpreter": {
   "hash": "8fea21aded3a92ff6cd30823602efa95e6b0c9a23eee257642d95ffa8f205980"
  },
  "kernelspec": {
   "display_name": "Python 3.7.6 64-bit ('env': venv)",
   "language": "python",
   "name": "python3"
  },
  "language_info": {
   "codemirror_mode": {
    "name": "ipython",
    "version": 3
   },
   "file_extension": ".py",
   "mimetype": "text/x-python",
   "name": "python",
   "nbconvert_exporter": "python",
   "pygments_lexer": "ipython3",
   "version": "3.7.6"
  },
  "orig_nbformat": 4
 },
 "nbformat": 4,
 "nbformat_minor": 2
}
