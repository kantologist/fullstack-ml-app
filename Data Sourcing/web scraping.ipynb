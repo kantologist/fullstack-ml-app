{
 "cells": [
  {
   "cell_type": "code",
   "execution_count": 2,
   "metadata": {},
   "outputs": [],
   "source": [
    "import requests\n",
    "from bs4 import BeautifulSoup\n",
    "import csv"
   ]
  },
  {
   "cell_type": "code",
   "execution_count": 3,
   "metadata": {},
   "outputs": [],
   "source": [
    "property_pro_url = \"https://www.propertypro.ng/property-for-sale/in/lagos/\"\n",
    "\n",
    "areas_in_lagos = [\"Abule-Egba\", \"Agege\",  \"Ajah\", \"Ajaokuta\", \"Alimosho\", \n",
    "                    \"Amuwo-Odofin\", \"Apapa\", \"Arepo\", \"Badagry\", \"Egbe-Idimu\", \n",
    "                    \"Egbeda\", \"Ejigbo\",  \"Epe\", \"Gbagada\", \"Ibeju-Lekki\", \"Ifo\", \n",
    "                    \"Iju\", \"Ikeja\", \"Ikorodu\", \"Ikotun-Igando\", \"Ikoyi\", \"Ilaje\", \n",
    "                    \"Ilupeju\", \"Ipaja\", \"Isolo\", \"Ketu\", \"Kosofe-Ikosi\", \"Lagos-Island\", \n",
    "                    \"Lekki\", \"Maryland\", \"Mushin\", \"Obafemi-Owode\", \"Ogba\", \"Ogba-Egbema-Ndoni\", \n",
    "                    \"Ogudu\", \"Ojo\", \"Ojodu\", \"Ojota\", \"Okota\", \"Orile\", \"Oshodi\", \"Port-Harcourt\", \n",
    "                    \"Sangotedo\", \"Shomolu\", \"Surulere\", \"Victoria-Island\", \"Yaba\"]"
   ]
  },
  {
   "cell_type": "markdown",
   "metadata": {},
   "source": [
    "0 bed, bath or toilet number, would be cleaned during data process. "
   ]
  },
  {
   "cell_type": "code",
   "execution_count": 10,
   "metadata": {},
   "outputs": [
    {
     "name": "stdout",
     "output_type": "stream",
     "text": [
      "Finished Abule-Egba\n",
      "Finished Agege\n"
     ]
    }
   ],
   "source": [
    "fieldnames = ['Area', 'Beds', 'Baths', 'Toilets', 'Price']\n",
    "f = open('../data/lagos_houses.csv', 'a')\n",
    "writer = csv.DictWriter(f, fieldnames=fieldnames)\n",
    "writer.writeheader()\n",
    "\n",
    "for area in areas_in_lagos:\n",
    "\n",
    "    property_page = requests.get(property_pro_url + area.lower())\n",
    "    property_page = BeautifulSoup(property_page.text, 'html.parser')\n",
    "    page_number = property_page.select('.property-number-left > h3 > strong')\n",
    "    page_number = int(page_number[0].getText())//20\n",
    "\n",
    "    for page in range(page_number):\n",
    "        property_page = requests.get(property_pro_url + areas_in_lagos[0].lower() + '?page=' + str(page))\n",
    "        property_page = BeautifulSoup(property_page.text, 'html.parser')\n",
    "        room = property_page.select('.single-room-text > .fur-areea > span')\n",
    "        prices = property_page.select('.single-room-text > .n50 > h3 > span')\n",
    "\n",
    "        for i in range(len(room) // 3):\n",
    "            price = prices[(2 * i) + 1]\n",
    "            price = price.getText()\n",
    "            # print(price.getText())\n",
    "            bed = room[3 * i]\n",
    "            bed = list(bed.getText())[0].replace(\" \", \"0\")\n",
    "            # print(list(bed.getText())[0].replace(\" \", \"0\"))\n",
    "            bath = room[(3 * i) + 1]\n",
    "            bath = list(bath.getText())[0].replace(\" \", \"0\")\n",
    "            # print(list(bath.getText())[0].replace(\" \", \"0\"))\n",
    "            toilet = room[(3 * i) + 2]\n",
    "            toilet = list(toilet.getText())[0].replace(\" \", \"0\") \n",
    "            # print(list(toilet.getText())[0].replace(\" \", \"0\"))\n",
    "            writer.writerow({'Area': area,\n",
    "                        'Beds':bed,\n",
    "                        'Baths':bath,\n",
    "                        'Toilets': toilet,\n",
    "                        'Price': price,})\n",
    "    print(\"Finished \" + area)\n",
    "\n",
    "f.close()"
   ]
  },
  {
   "cell_type": "code",
   "execution_count": null,
   "metadata": {},
   "outputs": [],
   "source": []
  }
 ],
 "metadata": {
  "interpreter": {
   "hash": "8fea21aded3a92ff6cd30823602efa95e6b0c9a23eee257642d95ffa8f205980"
  },
  "kernelspec": {
   "display_name": "Python 3.7.6 64-bit ('env': venv)",
   "language": "python",
   "name": "python3"
  },
  "language_info": {
   "codemirror_mode": {
    "name": "ipython",
    "version": 3
   },
   "file_extension": ".py",
   "mimetype": "text/x-python",
   "name": "python",
   "nbconvert_exporter": "python",
   "pygments_lexer": "ipython3",
   "version": "3.7.6"
  },
  "orig_nbformat": 4
 },
 "nbformat": 4,
 "nbformat_minor": 2
}
