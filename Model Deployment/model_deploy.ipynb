{
 "cells": [
  {
   "cell_type": "code",
   "execution_count": 1,
   "metadata": {},
   "outputs": [
    {
     "name": "stdout",
     "output_type": "stream",
     "text": [
      "[2021-11-15 18:28:58,558] INFO - BentoService bundle 'HousePredictor:20211115182858_EEDB5A' saved to: /Users/femi/bentoml/repository/HousePredictor/20211115182858_EEDB5A\n"
     ]
    }
   ],
   "source": [
    "from bento_service import HousePredictor\n",
    "import pickle\n",
    "\n",
    "house_predictor_service = HousePredictor()\n",
    "\n",
    "model = pickle.load(open(\"../data/model.sav\", \"rb\"))\n",
    "\n",
    "house_predictor_service.pack('model', model)\n",
    "\n",
    "saved_path = house_predictor_service.save()"
   ]
  },
  {
   "cell_type": "markdown",
   "metadata": {},
   "source": [
    "# Command for starting yatai service\n",
    "Run `bentoml yatai-service-start` in command line"
   ]
  },
  {
   "cell_type": "markdown",
   "metadata": {},
   "source": [
    "> `BENTO_BUNDLE=$(bentoml get HousePrediction:latest --print-location -q)`\n",
    "> `python deploy.py $BENTO_BUNDLE my_deployment heroku_config.json`"
   ]
  },
  {
   "cell_type": "markdown",
   "metadata": {},
   "source": [
    "> `BENTO_BUNDLE=$(bentoml get HousePrediction:latest --print-location -q)`\n",
    "> `python update.py $BENTO_BUNDLE my_deployment heroku_config.json`"
   ]
  },
  {
   "cell_type": "markdown",
   "metadata": {},
   "source": []
  }
 ],
 "metadata": {
  "interpreter": {
   "hash": "8fea21aded3a92ff6cd30823602efa95e6b0c9a23eee257642d95ffa8f205980"
  },
  "kernelspec": {
   "display_name": "Python 3.7.6 64-bit ('env': venv)",
   "language": "python",
   "name": "python3"
  },
  "language_info": {
   "codemirror_mode": {
    "name": "ipython",
    "version": 3
   },
   "file_extension": ".py",
   "mimetype": "text/x-python",
   "name": "python",
   "nbconvert_exporter": "python",
   "pygments_lexer": "ipython3",
   "version": "3.7.6"
  },
  "orig_nbformat": 4
 },
 "nbformat": 4,
 "nbformat_minor": 2
}
